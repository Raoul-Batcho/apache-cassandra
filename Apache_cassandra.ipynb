{
 "cells": [
  {
   "cell_type": "code",
   "execution_count": 1,
   "metadata": {
    "editable": true
   },
   "outputs": [],
   "source": [
    "# Import Python packages \n",
    "import pandas as pd\n",
    "import cassandra\n",
    "import re\n",
    "import os\n",
    "import glob\n",
    "import numpy as np\n",
    "import json\n",
    "import csv"
   ]
  },
  {
   "cell_type": "markdown",
   "metadata": {
    "editable": true
   },
   "source": [
    "Creating list of filepaths to process original event csv data files"
   ]
  },
  {
   "cell_type": "code",
   "execution_count": 2,
   "metadata": {
    "editable": true
   },
   "outputs": [],
   "source": [
    "# Get current working directory\n",
    "cwd = os.getcwd()\n",
    "\n",
    "# Get the list of subdirectories of /event_data/ leading to  *.csv files using glob\n",
    "file_path_list=glob.glob(cwd+'/event_data/**/*.csv', recursive=True)"
   ]
  },
  {
   "cell_type": "markdown",
   "metadata": {
    "editable": true
   },
   "source": [
    "Processing the files to create the data file csv that will be used for Apache Casssandra tables"
   ]
  },
  {
   "cell_type": "code",
   "execution_count": 3,
   "metadata": {
    "editable": true
   },
   "outputs": [],
   "source": [
    "# initiating an empty list of rows that will be generated from each file\n",
    "full_data_rows_list = [] \n",
    "    \n",
    "# for every filepath in the file path list \n",
    "for f in file_path_list:\n",
    "\n",
    "# reading csv file \n",
    "    with open(f, 'r', encoding = 'utf8', newline='') as csvfile: \n",
    "        # creating a csv reader object \n",
    "        csvreader = csv.reader(csvfile) \n",
    "        next(csvreader)\n",
    "        \n",
    " # extracting each data row one by one and append it        \n",
    "        for line in csvreader:\n",
    "            #print(line)\n",
    "            full_data_rows_list.append(line) \n",
    "            \n",
    "# creating a smaller event data csv file called event_datafile_new.csv that will be used to insert data into the \\\n",
    "# Apache Cassandra tables\n",
    "csv.register_dialect('myDialect', quoting=csv.QUOTE_ALL, skipinitialspace=True)\n",
    "\n",
    "with open('event_datafile_new.csv', 'w', encoding = 'utf8', newline='') as f:\n",
    "    writer = csv.writer(f, dialect='myDialect')\n",
    "    writer.writerow(['artist','firstName','gender','itemInSession','lastName','length',\\\n",
    "                'level','location','sessionId','song','userId'])\n",
    "    for row in full_data_rows_list:\n",
    "        if (row[0] == ''):\n",
    "            continue\n",
    "        writer.writerow((row[0], row[2], row[3], row[4], row[5], row[6], row[7], row[8], row[12], row[13], row[16]))\n"
   ]
  },
  {
   "cell_type": "code",
   "execution_count": 4,
   "metadata": {
    "editable": true
   },
   "outputs": [
    {
     "name": "stdout",
     "output_type": "stream",
     "text": [
      "6821\n"
     ]
    }
   ],
   "source": [
    "# check the number of rows in your csv file\n",
    "with open('event_datafile_new.csv', 'r', encoding = 'utf8') as f:\n",
    "    print(sum(1 for line in f))"
   ]
  },
  {
   "cell_type": "markdown",
   "metadata": {
    "editable": true
   },
   "source": [
    "Part II.  the Apache Cassandra coding portion of the project. "
   ]
  },
  {
   "cell_type": "code",
   "execution_count": 5,
   "metadata": {
    "editable": true
   },
   "outputs": [],
   "source": [
    "# Make a connection to a Cassandra instance on local machine (127.0.0.1)\n",
    "\n",
    "from cassandra.cluster import Cluster\n",
    "cluster = Cluster(['127.0.0.1'])\n",
    "\n",
    "# create a session on cassandra\n",
    "session = cluster.connect()"
   ]
  },
  {
   "cell_type": "code",
   "execution_count": 6,
   "metadata": {
    "editable": true
   },
   "outputs": [],
   "source": [
    "# Create a Keyspace \n",
    "try:\n",
    "   session.execute(\"\"\"CREATE KEYSPACE IF NOT EXISTS udacity \n",
    "                      WITH REPLICATION = {'class': 'SimpleStrategy', 'replication_factor': 1}\"\"\")\n",
    "    \n",
    "except Exception as e:\n",
    "    print(e)"
   ]
  },
  {
   "cell_type": "code",
   "execution_count": 7,
   "metadata": {
    "editable": true
   },
   "outputs": [],
   "source": [
    "# Set KEYSPACE to the keyspace specified above\n",
    "try:\n",
    "    session.set_keyspace('udacity')\n",
    "except Exception as e:\n",
    "    print(e)"
   ]
  },
  {
   "cell_type": "code",
   "execution_count": 8,
   "metadata": {
    "editable": true
   },
   "outputs": [
    {
     "name": "stdout",
     "output_type": "stream",
     "text": [
      "Faithless Music Matters (Mark Knight Dub) 495.30731201171875 338 4\n"
     ]
    }
   ],
   "source": [
    "# Query 1:  Gives the artist, song title and song's length in the music app history that was heard during \\\n",
    "# sessionId = 338, and itemInSession = 4 \\\n",
    "# We have created the table song_info_by_session_and_item_in_session and set the composite key (session_id, iteminsession) as primary key. \n",
    "\n",
    "query1=\"CREATE TABLE IF NOT EXISTS song_info_by_session_and_item_in_session\"\n",
    "query1= query1 + \"(artist_name text, song_title text, song_len float, session_id int, iteminsession int, PRIMARY KEY(session_id, iteminsession))\"\n",
    "try:\n",
    "    session.execute(query1)\n",
    "except Exception as e:\n",
    "    print (e)\n",
    "\n",
    "# open the CSV file and read the content\n",
    "file = 'event_datafile_new.csv'\n",
    "\n",
    "with open(file, encoding = 'utf8') as f:\n",
    "    csvreader = csv.reader(f)\n",
    "    \n",
    "    next(csvreader) # skip header\n",
    "    \n",
    "    #for each line in csvreader\n",
    "    for line in csvreader: \n",
    "        \n",
    "## Assign the INSERT statements into the `query` variable\n",
    "        query = \"INSERT INTO song_info_by_session_and_item_in_session (artist_name, song_title, song_len, session_id, iteminsession)\"\n",
    "        query = query + \"VALUES(%s,%s,%s,%s,%s)\"\n",
    "        \n",
    "        ## Assign which column element should be assigned for each column in the INSERT statement.\n",
    "        session.execute(query, (line[0], line[9], float(line[5]), int(line[8]), int(line[3])))\n",
    "\n",
    "\n",
    "## SELECT statement to verify the data was entered into the table\n",
    "select=\"\"\"SELECT artist_name, song_title, song_len, session_id, iteminsession \n",
    "                       FROM  song_info_by_session_and_item_in_session\n",
    "                       WHERE session_id = 338 AND iteminsession = 4\"\"\"\n",
    "try:\n",
    "    result=session.execute(select)  \n",
    "except Exception as e:\n",
    "    print(e) \n",
    "    \n",
    "for row in result:\n",
    "    print(row.artist_name, row.song_title, row.song_len, row.session_id, row.iteminsession)"
   ]
  },
  {
   "cell_type": "code",
   "execution_count": 9,
   "metadata": {
    "editable": true
   },
   "outputs": [
    {
     "name": "stdout",
     "output_type": "stream",
     "text": [
      "Down To The Bone Keep On Keepin' On 333.7660827636719 Sylvie Cruz 10 182\n",
      "Three Drives Greece 2000 411.6370849609375 Sylvie Cruz 10 182\n",
      "Sebastien Tellier Kilometer 377.73016357421875 Sylvie Cruz 10 182\n",
      "Lonnie Gordon Catch You Baby (Steve Pitron & Max Sanna Radio Edit) 181.2109832763672 Sylvie Cruz 10 182\n"
     ]
    }
   ],
   "source": [
    "## Query 2: name of artist, song (sorted by itemInSession) and user (first and last name)\\\n",
    "## for userid = 10, sessionid = 182 order by item in session \\ \n",
    "## We have created the table song_info_by_user_and_session and set the composite partition key (user_id, session_id) \\\n",
    "## and item in session as clustering column. \n",
    "\n",
    "query2=\"CREATE TABLE IF NOT EXISTS song_info_by_user_and_session\"\n",
    "query2= query2 + \"(artist_name text, song_title text, song_len float, user_first_name text, user_last_name text, user_id int, session_id int, iteminsession int, PRIMARY KEY((user_id, session_id), iteminsession))\"\n",
    "try:\n",
    "    session.execute(query2)\n",
    "except Exception as e:\n",
    "    print (e)\n",
    "    \n",
    "# open the CSV file and read the content\n",
    "file = 'event_datafile_new.csv'\n",
    "\n",
    "with open(file, encoding = 'utf8') as f:\n",
    "    csvreader = csv.reader(f)\n",
    "    next(csvreader) # skip header\n",
    "    \n",
    "    #for each line in csvreader\n",
    "    for line in csvreader:\n",
    "        \n",
    "## Assign the INSERT statements into the `query` variable\n",
    "        query = \"INSERT INTO song_info_by_user_and_session (artist_name, song_title, song_len, user_first_name, user_last_name, user_id, session_id, iteminsession)\"\n",
    "        query = query + \"VALUES(%s,%s,%s,%s,%s,%s,%s,%s)\"\n",
    "        ## Assign which column element should be assigned for each column in the INSERT statement.`\n",
    "        session.execute(query, (line[0], line[9], float(line[5]), line[1], line[4], int(line[10]), int(line[8]), int(line[3])))\n",
    "                    \n",
    "## SELECT statement to verify the data was entered into the table\n",
    "select=\"\"\"SELECT artist_name, song_title, song_len, user_first_name, user_last_name, user_id, session_id \n",
    "                       FROM  song_info_by_user_and_session\n",
    "                       WHERE user_id = 10 AND session_id = 182\n",
    "                       ORDER BY iteminsession\"\"\"\n",
    "try:\n",
    "    result=session.execute(select)  \n",
    "except Exception as e:\n",
    "    print(e) \n",
    "    \n",
    "for row in result:\n",
    "    print(row.artist_name, row.song_title, row.song_len, row.user_first_name, row.user_last_name, row.user_id, row.session_id)\n",
    "                    "
   ]
  },
  {
   "cell_type": "code",
   "execution_count": 10,
   "metadata": {
    "editable": true
   },
   "outputs": [
    {
     "name": "stdout",
     "output_type": "stream",
     "text": [
      "Jacqueline Lynch All Hands Against His Own\n"
     ]
    }
   ],
   "source": [
    "## Query 3: Gives every user name (first and last) in my music app history who listened to the song 'All Hands Against His Own' \\\n",
    "## We have created the table song_info_by_title and set composite key (song_title, user_id) as primary key where song_title is the partition key. \n",
    "\n",
    "query3=\"CREATE TABLE IF NOT EXISTS song_info_by_title\"\n",
    "query3= query3 + \"(user_first_name text, user_last_name text, song_title text, user_id, PRIMARY KEY(song_title, user_id))\"\n",
    "try:\n",
    "    session.execute(query3)\n",
    "except Exception as e:\n",
    "    print (e)\n",
    "    \n",
    "# open the CSV file and read the content\n",
    "file = 'event_datafile_new.csv'\n",
    "\n",
    "with open(file, encoding = 'utf8') as f:\n",
    "    csvreader = csv.reader(f)\n",
    "    next(csvreader) # skip header\n",
    "    #for each line in csvreader\n",
    "    for line in csvreader:\n",
    "        \n",
    "## Assign the INSERT statement into the `query` variable\n",
    "        query = \"INSERT INTO song_info_by_title (user_first_name, user_last_name, song_title, user_id)\"\n",
    "        query = query + \"VALUES(%s,%s,%s,%s)\"\n",
    "        ## TO-DO: Assign which column element should be assigned for each column in the INSERT statement.\n",
    "        session.execute(query, (line[1], line[4], line[9]))\n",
    "                    \n",
    "## SELECT statement to verify the data was entered into the table\n",
    "select=\"\"\"SELECT user_first_name, user_last_name, song_title\n",
    "                       FROM  song_info_by_title\n",
    "                       WHERE song_title = 'All Hands Against His Own'\n",
    "                       GROUP BY song_title, user_id \"\"\"\n",
    "try:\n",
    "    result=session.execute(select)  \n",
    "except Exception as e:\n",
    "    print(e) \n",
    "    \n",
    "for row in result:\n",
    "    print(row.user_first_name, row.user_last_name, row.song_title)\n",
    "                    "
   ]
  },
  {
   "cell_type": "code",
   "execution_count": 11,
   "metadata": {
    "editable": true
   },
   "outputs": [],
   "source": [
    "## Drop the table before closing out the sessions\n",
    "\n",
    "query = \"drop table music_session\"\n",
    "try:\n",
    "    rows = session.execute(query)\n",
    "except Exception as e:\n",
    "    print(e)\n",
    "    \n",
    "query = \"drop table music_play\"\n",
    "try:\n",
    "    rows = session.execute(query)\n",
    "except Exception as e:\n",
    "    print(e)\n",
    "    \n",
    "query = \"drop table music_listen\"\n",
    "try:\n",
    "    rows = session.execute(query)\n",
    "except Exception as e:\n",
    "    print(e)\n"
   ]
  },
  {
   "cell_type": "code",
   "execution_count": 12,
   "metadata": {
    "editable": true
   },
   "outputs": [],
   "source": [
    "#Close the seession and cluster\n",
    "session.shutdown()\n",
    "cluster.shutdown()"
   ]
  }
 ],
 "metadata": {
  "kernelspec": {
   "display_name": "Python 3",
   "language": "python",
   "name": "python3"
  },
  "language_info": {
   "codemirror_mode": {
    "name": "ipython",
    "version": 3
   },
   "file_extension": ".py",
   "mimetype": "text/x-python",
   "name": "python",
   "nbconvert_exporter": "python",
   "pygments_lexer": "ipython3",
   "version": "3.6.3"
  }
 },
 "nbformat": 4,
 "nbformat_minor": 4
}
